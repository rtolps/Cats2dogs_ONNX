{
  "nbformat": 4,
  "nbformat_minor": 0,
  "metadata": {
    "colab": {
      "name": "WorkingCatsToDogsPytorch",
      "provenance": [],
      "collapsed_sections": [],
      "machine_shape": "hm",
      "authorship_tag": "ABX9TyNsV4ba+dylq5E+Au6VgVub",
      "include_colab_link": true
    },
    "kernelspec": {
      "name": "python3",
      "display_name": "Python 3"
    },
    "accelerator": "GPU"
  },
  "cells": [
    {
      "cell_type": "markdown",
      "metadata": {
        "id": "view-in-github",
        "colab_type": "text"
      },
      "source": [
        "<a href=\"https://colab.research.google.com/github/rtolps/Cats2dogs_ONNX/blob/master/WorkingCatsToDogsPytorch.ipynb\" target=\"_parent\"><img src=\"https://colab.research.google.com/assets/colab-badge.svg\" alt=\"Open In Colab\"/></a>"
      ]
    },
    {
      "cell_type": "code",
      "metadata": {
        "id": "JbTn2PbVmRJG",
        "colab": {
          "base_uri": "https://localhost:8080/"
        },
        "outputId": "ba52ca4f-7f6e-495c-89bb-dadb52b89f7c"
      },
      "source": [
        "!git clone https://github.com/rtolps/Cats2dogs_ONNX\r\n",
        "%cd Cats2dogs_ONNX"
      ],
      "execution_count": 1,
      "outputs": [
        {
          "output_type": "stream",
          "text": [
            "Cloning into 'Cats2dogs_ONNX'...\n",
            "remote: Enumerating objects: 2288, done.\u001b[K\n",
            "remote: Counting objects: 100% (2288/2288), done.\u001b[K\n",
            "remote: Compressing objects: 100% (2282/2282), done.\u001b[K\n",
            "remote: Total 2358 (delta 26), reused 2251 (delta 5), pack-reused 70\u001b[K\n",
            "Receiving objects: 100% (2358/2358), 17.73 MiB | 2.60 MiB/s, done.\n",
            "Resolving deltas: 100% (49/49), done.\n",
            "/content/Cats2dogs_ONNX\n"
          ],
          "name": "stdout"
        }
      ]
    },
    {
      "cell_type": "markdown",
      "metadata": {
        "id": "QSI_dsnPCaEB"
      },
      "source": [
        ""
      ]
    },
    {
      "cell_type": "markdown",
      "metadata": {
        "id": "q7aTmO0SD-sl"
      },
      "source": [
        "Training"
      ]
    },
    {
      "cell_type": "code",
      "metadata": {
        "id": "s8r1_NJtqasq",
        "colab": {
          "base_uri": "https://localhost:8080/"
        },
        "outputId": "6297e512-b423-46be-e1e8-a4288c3dcf90"
      },
      "source": [
        "!python main.py --dataset cat2dog  --iteration 100 --light True --save_freq 100"
      ],
      "execution_count": 2,
      "outputs": [
        {
          "output_type": "stream",
          "text": [
            "number of epochs must be larger than or equal to one\n",
            "\n",
            "##### Information #####\n",
            "# light :  True\n",
            "# dataset :  cat2dog\n",
            "# batch_size :  1\n",
            "# iteration per epoch :  100\n",
            "\n",
            "##### Generator #####\n",
            "# residual blocks :  4\n",
            "\n",
            "##### Discriminator #####\n",
            "# discriminator layer :  6\n",
            "\n",
            "##### Weight #####\n",
            "# adv_weight :  1\n",
            "# cycle_weight :  10\n",
            "# identity_weight :  10\n",
            "# cam_weight :  1000\n",
            "training start !\n",
            "[    1/  100] time: 0.6537 d_loss: 7.45321941, g_loss: 5389.20019531\n",
            "[    2/  100] time: 1.1138 d_loss: 5.48889494, g_loss: 4248.30126953\n",
            "[    3/  100] time: 1.5692 d_loss: 5.25184965, g_loss: 3216.79663086\n",
            "[    4/  100] time: 2.0247 d_loss: 5.62461758, g_loss: 2489.44140625\n",
            "[    5/  100] time: 2.4814 d_loss: 5.70844793, g_loss: 2460.96044922\n",
            "[    6/  100] time: 2.9434 d_loss: 5.83641243, g_loss: 2987.24804688\n",
            "[    7/  100] time: 3.4002 d_loss: 5.03667545, g_loss: 5114.92822266\n",
            "[    8/  100] time: 3.8593 d_loss: 5.16633797, g_loss: 4365.97558594\n",
            "[    9/  100] time: 4.3151 d_loss: 5.17156029, g_loss: 3211.18945312\n",
            "[   10/  100] time: 4.7703 d_loss: 4.72211266, g_loss: 5889.85107422\n",
            "[   11/  100] time: 5.2257 d_loss: 4.55940056, g_loss: 4030.90917969\n",
            "[   12/  100] time: 5.6824 d_loss: 4.45254374, g_loss: 2392.19970703\n",
            "[   13/  100] time: 6.1382 d_loss: 4.57923365, g_loss: 2601.76391602\n",
            "[   14/  100] time: 6.5941 d_loss: 4.85021591, g_loss: 6079.47949219\n",
            "[   15/  100] time: 7.0502 d_loss: 4.64721870, g_loss: 2170.73657227\n",
            "[   16/  100] time: 7.5055 d_loss: 4.34680510, g_loss: 4133.54394531\n",
            "[   17/  100] time: 7.9632 d_loss: 4.14765549, g_loss: 1744.32519531\n",
            "[   18/  100] time: 8.4192 d_loss: 5.52286053, g_loss: 5350.37890625\n",
            "[   19/  100] time: 8.8770 d_loss: 4.53321075, g_loss: 3698.71582031\n",
            "[   20/  100] time: 9.3380 d_loss: 4.78583050, g_loss: 1645.83740234\n",
            "[   21/  100] time: 9.8009 d_loss: 4.69853783, g_loss: 4035.33593750\n",
            "[   22/  100] time: 10.2561 d_loss: 4.77826118, g_loss: 6271.07910156\n",
            "[   23/  100] time: 10.7123 d_loss: 4.59564972, g_loss: 6899.80517578\n",
            "[   24/  100] time: 11.1685 d_loss: 4.15665007, g_loss: 3596.94799805\n",
            "[   25/  100] time: 11.6263 d_loss: 4.08290768, g_loss: 2442.47656250\n",
            "[   26/  100] time: 12.0877 d_loss: 3.80514026, g_loss: 3805.81396484\n",
            "[   27/  100] time: 12.5435 d_loss: 3.79713392, g_loss: 9348.41601562\n",
            "[   28/  100] time: 13.0002 d_loss: 3.88241196, g_loss: 4270.10107422\n",
            "[   29/  100] time: 13.4617 d_loss: 4.07351637, g_loss: 3083.51025391\n",
            "[   30/  100] time: 13.9195 d_loss: 4.78459120, g_loss: 2265.03955078\n",
            "[   31/  100] time: 14.3751 d_loss: 4.31789875, g_loss: 3505.06323242\n",
            "[   32/  100] time: 14.8306 d_loss: 4.35624886, g_loss: 9236.55078125\n",
            "[   33/  100] time: 15.2876 d_loss: 4.25419474, g_loss: 1883.54003906\n",
            "[   34/  100] time: 15.7445 d_loss: 3.83840466, g_loss: 1972.91748047\n",
            "[   35/  100] time: 16.1999 d_loss: 4.56375599, g_loss: 2761.12304688\n",
            "[   36/  100] time: 16.6556 d_loss: 4.41266251, g_loss: 4560.15625000\n",
            "[   37/  100] time: 17.1118 d_loss: 5.19203758, g_loss: 3428.28466797\n",
            "[   38/  100] time: 17.5691 d_loss: 3.92721534, g_loss: 7594.50048828\n",
            "[   39/  100] time: 18.0234 d_loss: 4.10562086, g_loss: 5160.02929688\n",
            "[   40/  100] time: 18.4805 d_loss: 3.78276968, g_loss: 6781.65869141\n",
            "[   41/  100] time: 18.9467 d_loss: 4.78907871, g_loss: 6733.98828125\n",
            "[   42/  100] time: 19.4105 d_loss: 3.85661316, g_loss: 1808.92407227\n",
            "[   43/  100] time: 19.8661 d_loss: 3.94143891, g_loss: 1453.82189941\n",
            "[   44/  100] time: 20.3219 d_loss: 4.04903889, g_loss: 1904.37622070\n",
            "[   45/  100] time: 20.7785 d_loss: 4.44461250, g_loss: 7587.80664062\n",
            "[   46/  100] time: 21.2338 d_loss: 3.90011168, g_loss: 8481.07617188\n",
            "[   47/  100] time: 21.6911 d_loss: 4.06366396, g_loss: 6021.87890625\n",
            "[   48/  100] time: 22.1525 d_loss: 3.71439934, g_loss: 5962.65380859\n",
            "[   49/  100] time: 22.6081 d_loss: 3.81800747, g_loss: 2297.33740234\n",
            "[   50/  100] time: 23.0640 d_loss: 4.44261265, g_loss: 4312.87792969\n",
            "[   51/  100] time: 23.5209 d_loss: 3.90369272, g_loss: 4013.77099609\n",
            "[   52/  100] time: 23.9828 d_loss: 3.76759481, g_loss: 5596.18945312\n",
            "[   53/  100] time: 24.4477 d_loss: 3.80494165, g_loss: 1530.98059082\n",
            "[   54/  100] time: 24.9047 d_loss: 4.48502827, g_loss: 3949.40209961\n",
            "[   55/  100] time: 25.3697 d_loss: 3.93627834, g_loss: 3865.97998047\n",
            "[   56/  100] time: 25.8320 d_loss: 3.70188570, g_loss: 2631.70825195\n",
            "[   57/  100] time: 26.2876 d_loss: 3.61746144, g_loss: 3310.90478516\n",
            "[   58/  100] time: 26.7431 d_loss: 3.58018875, g_loss: 1530.67321777\n",
            "[   59/  100] time: 27.2007 d_loss: 3.67484045, g_loss: 2369.98583984\n",
            "[   60/  100] time: 27.6580 d_loss: 4.61097336, g_loss: 2251.27807617\n",
            "[   61/  100] time: 28.1236 d_loss: 4.07530260, g_loss: 1628.22070312\n",
            "[   62/  100] time: 28.5900 d_loss: 4.11483812, g_loss: 1452.46362305\n",
            "[   63/  100] time: 29.0465 d_loss: 3.59977913, g_loss: 1725.77893066\n",
            "[   64/  100] time: 29.5018 d_loss: 4.00624084, g_loss: 3225.32617188\n",
            "[   65/  100] time: 29.9669 d_loss: 4.03371334, g_loss: 3274.05517578\n",
            "[   66/  100] time: 30.4237 d_loss: 3.81138897, g_loss: 1671.13562012\n",
            "[   67/  100] time: 30.8790 d_loss: 4.13378477, g_loss: 2559.53662109\n",
            "[   68/  100] time: 31.3344 d_loss: 3.45310402, g_loss: 1626.17126465\n",
            "[   69/  100] time: 31.7937 d_loss: 3.17596245, g_loss: 1776.95800781\n",
            "[   70/  100] time: 32.2613 d_loss: 3.65432739, g_loss: 2276.90795898\n",
            "[   71/  100] time: 32.7201 d_loss: 3.78417778, g_loss: 1602.30200195\n",
            "[   72/  100] time: 33.1748 d_loss: 3.37078595, g_loss: 1626.49768066\n",
            "[   73/  100] time: 33.6297 d_loss: 3.76895499, g_loss: 1721.26586914\n",
            "[   74/  100] time: 34.0849 d_loss: 3.17781997, g_loss: 1635.12353516\n",
            "[   75/  100] time: 34.5411 d_loss: 4.06082726, g_loss: 1590.35327148\n",
            "[   76/  100] time: 35.0012 d_loss: 3.35330200, g_loss: 1700.35217285\n",
            "[   77/  100] time: 35.4606 d_loss: 3.49571276, g_loss: 1569.03149414\n",
            "[   78/  100] time: 35.9164 d_loss: 4.19483662, g_loss: 4367.63183594\n",
            "[   79/  100] time: 36.3713 d_loss: 3.21972704, g_loss: 1498.61059570\n",
            "[   80/  100] time: 36.8267 d_loss: 4.25378370, g_loss: 1505.93725586\n",
            "[   81/  100] time: 37.2819 d_loss: 3.80690169, g_loss: 2008.98266602\n",
            "[   82/  100] time: 37.7366 d_loss: 3.94642735, g_loss: 2774.79003906\n",
            "[   83/  100] time: 38.1938 d_loss: 3.61126709, g_loss: 3718.09423828\n",
            "[   84/  100] time: 38.6503 d_loss: 3.67754555, g_loss: 5573.48632812\n",
            "[   85/  100] time: 39.1175 d_loss: 3.74347353, g_loss: 1907.58410645\n",
            "[   86/  100] time: 39.5756 d_loss: 3.42305040, g_loss: 2516.22216797\n",
            "[   87/  100] time: 40.0314 d_loss: 3.57430625, g_loss: 1933.32409668\n",
            "[   88/  100] time: 40.4883 d_loss: 3.77868152, g_loss: 1873.08898926\n",
            "[   89/  100] time: 40.9443 d_loss: 3.29379177, g_loss: 1454.60229492\n",
            "[   90/  100] time: 41.3998 d_loss: 3.77922153, g_loss: 1407.79907227\n",
            "[   91/  100] time: 41.8551 d_loss: 3.50960636, g_loss: 1537.72045898\n",
            "[   92/  100] time: 42.3123 d_loss: 3.17871761, g_loss: 2463.44531250\n",
            "[   93/  100] time: 42.7739 d_loss: 4.05442238, g_loss: 2666.83203125\n",
            "[   94/  100] time: 43.2308 d_loss: 3.13518429, g_loss: 1408.04870605\n",
            "[   95/  100] time: 43.6879 d_loss: 3.48391223, g_loss: 1779.79785156\n",
            "[   96/  100] time: 44.1450 d_loss: 3.52333450, g_loss: 1430.70629883\n",
            "[   97/  100] time: 44.6007 d_loss: 3.26023984, g_loss: 1412.22937012\n",
            "[   98/  100] time: 45.0565 d_loss: 2.95889902, g_loss: 1404.25781250\n",
            "[   99/  100] time: 45.5136 d_loss: 3.64889050, g_loss: 1490.49206543\n",
            "[  100/  100] time: 45.9719 d_loss: 3.83044863, g_loss: 5926.91455078\n",
            " [*] Training finished!\n"
          ],
          "name": "stdout"
        }
      ]
    },
    {
      "cell_type": "markdown",
      "metadata": {
        "id": "LxWRbl3moZHj"
      },
      "source": [
        "Testing"
      ]
    },
    {
      "cell_type": "code",
      "metadata": {
        "id": "oBIHMCrlrofc",
        "colab": {
          "base_uri": "https://localhost:8080/"
        },
        "outputId": "e79b327b-553b-4fa3-c415-4288e8e5e1e1"
      },
      "source": [
        "!python main.py --dataset  cat2dog --iteration 100 --phase test --light True"
      ],
      "execution_count": 3,
      "outputs": [
        {
          "output_type": "stream",
          "text": [
            "number of epochs must be larger than or equal to one\n",
            "\n",
            "##### Information #####\n",
            "# light :  True\n",
            "# dataset :  cat2dog\n",
            "# batch_size :  1\n",
            "# iteration per epoch :  100\n",
            "\n",
            "##### Generator #####\n",
            "# residual blocks :  4\n",
            "\n",
            "##### Discriminator #####\n",
            "# discriminator layer :  6\n",
            "\n",
            "##### Weight #####\n",
            "# adv_weight :  1\n",
            "# cycle_weight :  10\n",
            "# identity_weight :  10\n",
            "# cam_weight :  1000\n",
            " [*] Load SUCCESS\n",
            " [*] Test finished!\n"
          ],
          "name": "stdout"
        }
      ]
    },
    {
      "cell_type": "markdown",
      "metadata": {
        "id": "bfM0lxlmG4pf"
      },
      "source": [
        "**WARNING PART BELOW NOT WORKING!**\r\n",
        "\r\n",
        "Export ONNX  call a custom script (modifiedmain.py probably) where \"test\" feature is turned into export feature. I added code (which is commented) at the bottom of the UGATIT script to return out genA2B for exporting per [this Snapchat Guide.](https://lensstudio.snapchat.com/guides/machine-learning/ml-frameworks/export-from-pytorch/)"
      ]
    },
    {
      "cell_type": "markdown",
      "metadata": {
        "id": "y5TLn8g-I8ko"
      },
      "source": [
        "Extra info about training the model as 0,255 instead: https://discuss.pytorch.org/t/how-to-change-torchvision-model-input-range-from-0-1-to-0-256/58511/3\r\n",
        "\r\n",
        "Also check out \"result.clamp(min=0, max=255)\" mentioned in https://pytorch.org/docs/stable/nn.functional.html"
      ]
    },
    {
      "cell_type": "code",
      "metadata": {
        "id": "kBuxRB7O1A20"
      },
      "source": [
        "#check python version\r\n",
        "!python -V"
      ],
      "execution_count": null,
      "outputs": []
    },
    {
      "cell_type": "code",
      "metadata": {
        "id": "fgtIHvLQ0x42"
      },
      "source": [
        "#check Cuda version\r\n",
        "!nvcc --version"
      ],
      "execution_count": null,
      "outputs": []
    },
    {
      "cell_type": "code",
      "metadata": {
        "id": "5YLn09Tk1f5o"
      },
      "source": [
        "#check pytorch version\r\n",
        "import torch\r\n",
        "print(torch.__version__)"
      ],
      "execution_count": null,
      "outputs": []
    },
    {
      "cell_type": "markdown",
      "metadata": {
        "id": "eFG6bws5SxmA"
      },
      "source": [
        "This explains no attribute dim error: https://discuss.pytorch.org/t/function-object-has-no-attribute-dim/61199/2"
      ]
    },
    {
      "cell_type": "code",
      "metadata": {
        "id": "zSMvbQ-UorRH"
      },
      "source": [
        "!python modifiedmain.py --dataset  cat2dog --iteration 100 --phase test --light True"
      ],
      "execution_count": null,
      "outputs": []
    },
    {
      "cell_type": "markdown",
      "metadata": {
        "id": "qKqk4GPKC0Rf"
      },
      "source": [
        "Trying to do this from YouTube Tutorial: https://www.youtube.com/watch?v=7nutT3Aacyw"
      ]
    },
    {
      "cell_type": "code",
      "metadata": {
        "id": "RmcMqJYUC5vD",
        "colab": {
          "base_uri": "https://localhost:8080/"
        },
        "outputId": "e9703cf2-565f-43d9-85de-7f1e10d010da"
      },
      "source": [
        "!python convert_to_onnx.py"
      ],
      "execution_count": 27,
      "outputs": [
        {
          "output_type": "stream",
          "text": [
            "Traceback (most recent call last):\n",
            "  File \"convert_to_onnx.py\", line 32, in <module>\n",
            "    opset_version=11)\n",
            "  File \"/usr/local/lib/python3.6/dist-packages/torch/onnx/__init__.py\", line 230, in export\n",
            "    custom_opsets, enable_onnx_checker, use_external_data_format)\n",
            "  File \"/usr/local/lib/python3.6/dist-packages/torch/onnx/utils.py\", line 91, in export\n",
            "    use_external_data_format=use_external_data_format)\n",
            "  File \"/usr/local/lib/python3.6/dist-packages/torch/onnx/utils.py\", line 639, in _export\n",
            "    dynamic_axes=dynamic_axes)\n",
            "  File \"/usr/local/lib/python3.6/dist-packages/torch/onnx/utils.py\", line 421, in _model_to_graph\n",
            "    dynamic_axes=dynamic_axes, input_names=input_names)\n",
            "  File \"/usr/local/lib/python3.6/dist-packages/torch/onnx/utils.py\", line 203, in _optimize_graph\n",
            "    graph = torch._C._jit_pass_onnx(graph, operator_export_type)\n",
            "  File \"/usr/local/lib/python3.6/dist-packages/torch/onnx/__init__.py\", line 263, in _run_symbolic_function\n",
            "    return utils._run_symbolic_function(*args, **kwargs)\n",
            "  File \"/usr/local/lib/python3.6/dist-packages/torch/onnx/utils.py\", line 930, in _run_symbolic_function\n",
            "    symbolic_fn = _find_symbolic_in_registry(domain, op_name, opset_version, operator_export_type)\n",
            "  File \"/usr/local/lib/python3.6/dist-packages/torch/onnx/utils.py\", line 888, in _find_symbolic_in_registry\n",
            "    return sym_registry.get_registered_op(op_name, domain, opset_version)\n",
            "  File \"/usr/local/lib/python3.6/dist-packages/torch/onnx/symbolic_registry.py\", line 111, in get_registered_op\n",
            "    raise RuntimeError(msg)\n",
            "RuntimeError: Exporting the operator var to ONNX opset version 11 is not supported. Please open a bug to request ONNX export support for the missing operator.\n"
          ],
          "name": "stdout"
        }
      ]
    }
  ]
}