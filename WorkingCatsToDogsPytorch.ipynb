{
  "nbformat": 4,
  "nbformat_minor": 0,
  "metadata": {
    "colab": {
      "name": "WorkingCatsToDogsPytorch",
      "provenance": [],
      "collapsed_sections": [],
      "machine_shape": "hm",
      "authorship_tag": "ABX9TyNAkd2SLjsaf002XAEV6zJg",
      "include_colab_link": true
    },
    "kernelspec": {
      "name": "python3",
      "display_name": "Python 3"
    },
    "accelerator": "GPU"
  },
  "cells": [
    {
      "cell_type": "markdown",
      "metadata": {
        "id": "view-in-github",
        "colab_type": "text"
      },
      "source": [
        "<a href=\"https://colab.research.google.com/github/rtolps/Cats2dogs_ONNX/blob/master/WorkingCatsToDogsPytorch.ipynb\" target=\"_parent\"><img src=\"https://colab.research.google.com/assets/colab-badge.svg\" alt=\"Open In Colab\"/></a>"
      ]
    },
    {
      "cell_type": "code",
      "metadata": {
        "id": "JbTn2PbVmRJG",
        "colab": {
          "base_uri": "https://localhost:8080/"
        },
        "outputId": "d0f78899-291a-4f69-934d-9f13e0f6d95e"
      },
      "source": [
        "!git clone https://github.com/rtolps/Cats2dogs_ONNX\r\n",
        "%cd Cats2dogs_ONNX"
      ],
      "execution_count": 1,
      "outputs": [
        {
          "output_type": "stream",
          "text": [
            "Cloning into 'Cats2dogs_ONNX'...\n",
            "remote: Enumerating objects: 2320, done.\u001b[K\n",
            "remote: Counting objects: 100% (2320/2320), done.\u001b[K\n",
            "remote: Compressing objects: 100% (2309/2309), done.\u001b[K\n",
            "remote: Total 2390 (delta 44), reused 2262 (delta 10), pack-reused 70\u001b[K\n",
            "Receiving objects: 100% (2390/2390), 17.82 MiB | 38.75 MiB/s, done.\n",
            "Resolving deltas: 100% (67/67), done.\n",
            "/content/Cats2dogs_ONNX\n"
          ],
          "name": "stdout"
        }
      ]
    },
    {
      "cell_type": "markdown",
      "metadata": {
        "id": "QSI_dsnPCaEB"
      },
      "source": [
        ""
      ]
    },
    {
      "cell_type": "markdown",
      "metadata": {
        "id": "q7aTmO0SD-sl"
      },
      "source": [
        "Training"
      ]
    },
    {
      "cell_type": "code",
      "metadata": {
        "id": "s8r1_NJtqasq",
        "colab": {
          "base_uri": "https://localhost:8080/"
        },
        "outputId": "3000347e-d5f3-405f-bb51-e2c15ba105fb"
      },
      "source": [
        "!python main.py --dataset cat2dog  --iteration 100 --light True --save_freq 100 --ch 16"
      ],
      "execution_count": 2,
      "outputs": [
        {
          "output_type": "stream",
          "text": [
            "number of epochs must be larger than or equal to one\n",
            "\n",
            "##### Information #####\n",
            "# light :  True\n",
            "# dataset :  cat2dog\n",
            "# batch_size :  1\n",
            "# iteration per epoch :  100\n",
            "\n",
            "##### Generator #####\n",
            "# residual blocks :  4\n",
            "\n",
            "##### Discriminator #####\n",
            "# discriminator layer :  6\n",
            "\n",
            "##### Weight #####\n",
            "# adv_weight :  1\n",
            "# cycle_weight :  10\n",
            "# identity_weight :  10\n",
            "# cam_weight :  1000\n",
            "training start !\n",
            "[    1/  100] time: 0.7729 d_loss: 8.24095058, g_loss: 12106.68359375\n",
            "[    2/  100] time: 1.3152 d_loss: 6.13549423, g_loss: 8334.96289062\n",
            "[    3/  100] time: 1.8301 d_loss: 5.44864368, g_loss: 12482.91699219\n",
            "[    4/  100] time: 2.2981 d_loss: 5.56386948, g_loss: 5987.66357422\n",
            "[    5/  100] time: 2.7835 d_loss: 5.03865814, g_loss: 3981.89550781\n",
            "[    6/  100] time: 3.2544 d_loss: 4.87487698, g_loss: 2599.95898438\n",
            "[    7/  100] time: 3.7682 d_loss: 4.47340631, g_loss: 5252.29492188\n",
            "[    8/  100] time: 4.2997 d_loss: 4.91270828, g_loss: 2053.40771484\n",
            "[    9/  100] time: 4.8112 d_loss: 5.54815388, g_loss: 2870.76806641\n",
            "[   10/  100] time: 5.3451 d_loss: 4.42280340, g_loss: 2555.96899414\n",
            "[   11/  100] time: 5.9162 d_loss: 5.25701046, g_loss: 5294.99609375\n",
            "[   12/  100] time: 6.4463 d_loss: 4.80472565, g_loss: 2260.46972656\n",
            "[   13/  100] time: 6.9730 d_loss: 4.99032259, g_loss: 4703.53222656\n",
            "[   14/  100] time: 7.4615 d_loss: 4.44327354, g_loss: 1974.71789551\n",
            "[   15/  100] time: 7.9639 d_loss: 4.65459347, g_loss: 2562.65722656\n",
            "[   16/  100] time: 8.4843 d_loss: 4.14159489, g_loss: 1684.49462891\n",
            "[   17/  100] time: 9.0437 d_loss: 4.48406601, g_loss: 3802.91528320\n",
            "[   18/  100] time: 9.5321 d_loss: 4.59717655, g_loss: 3518.43505859\n",
            "[   19/  100] time: 10.0161 d_loss: 4.54993343, g_loss: 2555.63208008\n",
            "[   20/  100] time: 10.5453 d_loss: 4.42250252, g_loss: 1802.15307617\n",
            "[   21/  100] time: 11.0397 d_loss: 4.16098547, g_loss: 4875.46875000\n",
            "[   22/  100] time: 11.5587 d_loss: 4.77922344, g_loss: 5672.98828125\n",
            "[   23/  100] time: 12.0836 d_loss: 4.18693447, g_loss: 2126.66259766\n",
            "[   24/  100] time: 12.5740 d_loss: 4.34667969, g_loss: 3599.66845703\n",
            "[   25/  100] time: 13.0663 d_loss: 4.50616837, g_loss: 1917.48828125\n",
            "[   26/  100] time: 13.5539 d_loss: 4.31416035, g_loss: 1738.45568848\n",
            "[   27/  100] time: 14.0432 d_loss: 4.27050114, g_loss: 4418.17968750\n",
            "[   28/  100] time: 14.5355 d_loss: 4.76746655, g_loss: 2190.51611328\n",
            "[   29/  100] time: 15.0545 d_loss: 4.09021711, g_loss: 5323.83984375\n",
            "[   30/  100] time: 15.5721 d_loss: 4.12606144, g_loss: 1713.99365234\n",
            "[   31/  100] time: 16.0599 d_loss: 4.65226746, g_loss: 2172.61743164\n",
            "[   32/  100] time: 16.5535 d_loss: 3.83592439, g_loss: 1862.31103516\n",
            "[   33/  100] time: 17.1026 d_loss: 3.58574247, g_loss: 3910.13818359\n",
            "[   34/  100] time: 17.6032 d_loss: 4.41370869, g_loss: 1547.52612305\n",
            "[   35/  100] time: 18.1244 d_loss: 3.82869816, g_loss: 2648.94482422\n",
            "[   36/  100] time: 18.6368 d_loss: 3.72088337, g_loss: 2514.66601562\n",
            "[   37/  100] time: 19.1724 d_loss: 4.49094343, g_loss: 3745.34204102\n",
            "[   38/  100] time: 19.6635 d_loss: 4.30336952, g_loss: 2462.88037109\n",
            "[   39/  100] time: 20.1940 d_loss: 3.86869669, g_loss: 3029.28759766\n",
            "[   40/  100] time: 20.6891 d_loss: 3.92083263, g_loss: 1905.25744629\n",
            "[   41/  100] time: 21.2006 d_loss: 4.07494545, g_loss: 1881.90893555\n",
            "[   42/  100] time: 21.7057 d_loss: 4.23087358, g_loss: 1519.72070312\n",
            "[   43/  100] time: 22.2067 d_loss: 3.60960388, g_loss: 1782.97094727\n",
            "[   44/  100] time: 22.7110 d_loss: 3.82777429, g_loss: 1469.91528320\n",
            "[   45/  100] time: 23.1935 d_loss: 4.11714745, g_loss: 1618.17358398\n",
            "[   46/  100] time: 23.6819 d_loss: 3.45733404, g_loss: 1620.44091797\n",
            "[   47/  100] time: 24.2201 d_loss: 3.56928301, g_loss: 1805.92736816\n",
            "[   48/  100] time: 24.7360 d_loss: 3.83732700, g_loss: 5069.00000000\n",
            "[   49/  100] time: 25.2388 d_loss: 3.47334814, g_loss: 4886.22851562\n",
            "[   50/  100] time: 25.7462 d_loss: 3.97517967, g_loss: 6699.16748047\n",
            "[   51/  100] time: 26.2491 d_loss: 3.61727953, g_loss: 5125.42871094\n",
            "[   52/  100] time: 26.7915 d_loss: 4.29412079, g_loss: 2913.10156250\n",
            "[   53/  100] time: 27.2746 d_loss: 5.28719425, g_loss: 2358.70458984\n",
            "[   54/  100] time: 27.7670 d_loss: 4.13158798, g_loss: 4579.78173828\n",
            "[   55/  100] time: 28.2648 d_loss: 4.30295229, g_loss: 4027.46826172\n",
            "[   56/  100] time: 28.7678 d_loss: 4.55129862, g_loss: 3580.05395508\n",
            "[   57/  100] time: 29.2498 d_loss: 3.82647800, g_loss: 1524.42016602\n",
            "[   58/  100] time: 29.7385 d_loss: 4.62460804, g_loss: 1512.77221680\n",
            "[   59/  100] time: 30.2544 d_loss: 3.57900548, g_loss: 1579.42504883\n",
            "[   60/  100] time: 30.7830 d_loss: 3.67785215, g_loss: 1537.70629883\n",
            "[   61/  100] time: 31.2729 d_loss: 3.86421561, g_loss: 1904.35546875\n",
            "[   62/  100] time: 31.7714 d_loss: 3.94017458, g_loss: 3011.66040039\n",
            "[   63/  100] time: 32.2556 d_loss: 3.60807157, g_loss: 1792.57690430\n",
            "[   64/  100] time: 32.7458 d_loss: 3.91441679, g_loss: 2151.53173828\n",
            "[   65/  100] time: 33.2373 d_loss: 3.37970018, g_loss: 2199.87768555\n",
            "[   66/  100] time: 33.7534 d_loss: 3.83312178, g_loss: 3765.97900391\n",
            "[   67/  100] time: 34.2329 d_loss: 3.52731609, g_loss: 4598.79589844\n",
            "[   68/  100] time: 34.7315 d_loss: 3.48812079, g_loss: 1673.63159180\n",
            "[   69/  100] time: 35.2136 d_loss: 3.38628602, g_loss: 1947.77709961\n",
            "[   70/  100] time: 35.7102 d_loss: 3.04034328, g_loss: 1598.68005371\n",
            "[   71/  100] time: 36.2017 d_loss: 4.23496532, g_loss: 3706.38476562\n",
            "[   72/  100] time: 36.7122 d_loss: 3.45673895, g_loss: 1750.99438477\n",
            "[   73/  100] time: 37.2271 d_loss: 4.20413971, g_loss: 2284.09960938\n",
            "[   74/  100] time: 37.7420 d_loss: 3.18712521, g_loss: 2455.67871094\n",
            "[   75/  100] time: 38.2606 d_loss: 4.03280544, g_loss: 1615.86877441\n",
            "[   76/  100] time: 38.7811 d_loss: 4.33684254, g_loss: 3510.14794922\n",
            "[   77/  100] time: 39.2639 d_loss: 4.20009947, g_loss: 3620.23632812\n",
            "[   78/  100] time: 39.7746 d_loss: 3.43075895, g_loss: 2751.02734375\n",
            "[   79/  100] time: 40.3032 d_loss: 3.83278275, g_loss: 3190.76293945\n",
            "[   80/  100] time: 40.8122 d_loss: 3.52989388, g_loss: 2072.30810547\n",
            "[   81/  100] time: 41.3582 d_loss: 3.32424116, g_loss: 3291.21948242\n",
            "[   82/  100] time: 41.8629 d_loss: 3.62839556, g_loss: 3875.87426758\n",
            "[   83/  100] time: 42.3822 d_loss: 3.21809149, g_loss: 4102.22070312\n",
            "[   84/  100] time: 42.9094 d_loss: 3.33658028, g_loss: 2361.16162109\n",
            "[   85/  100] time: 43.3902 d_loss: 3.59905028, g_loss: 1710.81420898\n",
            "[   86/  100] time: 43.9057 d_loss: 3.78791952, g_loss: 1966.02221680\n",
            "[   87/  100] time: 44.3771 d_loss: 3.38929367, g_loss: 1525.30786133\n",
            "[   88/  100] time: 44.8551 d_loss: 3.80672908, g_loss: 1512.24291992\n",
            "[   89/  100] time: 45.3480 d_loss: 3.98517227, g_loss: 2441.27587891\n",
            "[   90/  100] time: 45.8661 d_loss: 2.88831139, g_loss: 1475.51000977\n",
            "[   91/  100] time: 46.3382 d_loss: 4.51267147, g_loss: 4722.14160156\n",
            "[   92/  100] time: 46.8131 d_loss: 3.72762203, g_loss: 2311.16064453\n",
            "[   93/  100] time: 47.2942 d_loss: 3.50480461, g_loss: 1510.79028320\n",
            "[   94/  100] time: 47.7919 d_loss: 3.73246908, g_loss: 1455.65380859\n",
            "[   95/  100] time: 48.3230 d_loss: 3.61482048, g_loss: 1460.43090820\n",
            "[   96/  100] time: 48.8562 d_loss: 3.88956404, g_loss: 2607.49096680\n",
            "[   97/  100] time: 49.3343 d_loss: 3.77929783, g_loss: 1885.49291992\n",
            "[   98/  100] time: 49.8270 d_loss: 3.63916016, g_loss: 1437.24389648\n",
            "[   99/  100] time: 50.3148 d_loss: 3.75960350, g_loss: 2095.62548828\n",
            "[  100/  100] time: 50.7971 d_loss: 3.44513416, g_loss: 2221.47363281\n",
            " [*] Training finished!\n"
          ],
          "name": "stdout"
        }
      ]
    },
    {
      "cell_type": "markdown",
      "metadata": {
        "id": "LxWRbl3moZHj"
      },
      "source": [
        "Testing"
      ]
    },
    {
      "cell_type": "code",
      "metadata": {
        "id": "oBIHMCrlrofc",
        "colab": {
          "base_uri": "https://localhost:8080/"
        },
        "outputId": "7b88641b-b248-4028-8d14-7b245e9a30d3"
      },
      "source": [
        "!python main.py --dataset  cat2dog --iteration 100 --phase test --light True --ch 16"
      ],
      "execution_count": 3,
      "outputs": [
        {
          "output_type": "stream",
          "text": [
            "number of epochs must be larger than or equal to one\n",
            "\n",
            "##### Information #####\n",
            "# light :  True\n",
            "# dataset :  cat2dog\n",
            "# batch_size :  1\n",
            "# iteration per epoch :  100\n",
            "\n",
            "##### Generator #####\n",
            "# residual blocks :  4\n",
            "\n",
            "##### Discriminator #####\n",
            "# discriminator layer :  6\n",
            "\n",
            "##### Weight #####\n",
            "# adv_weight :  1\n",
            "# cycle_weight :  10\n",
            "# identity_weight :  10\n",
            "# cam_weight :  1000\n",
            " [*] Load SUCCESS\n",
            " [*] Test finished!\n"
          ],
          "name": "stdout"
        }
      ]
    },
    {
      "cell_type": "markdown",
      "metadata": {
        "id": "bfM0lxlmG4pf"
      },
      "source": [
        "**WARNING PART BELOW NOT WORKING!**\r\n",
        "\r\n",
        "Export ONNX  call a custom script (modifiedmain.py probably) where \"test\" feature is turned into export feature. I added code (which is commented) at the bottom of the UGATIT script to return out genA2B for exporting per [this Snapchat Guide.](https://lensstudio.snapchat.com/guides/machine-learning/ml-frameworks/export-from-pytorch/)"
      ]
    },
    {
      "cell_type": "markdown",
      "metadata": {
        "id": "y5TLn8g-I8ko"
      },
      "source": [
        "Extra info about training the model as 0,255 instead: https://discuss.pytorch.org/t/how-to-change-torchvision-model-input-range-from-0-1-to-0-256/58511/3\r\n",
        "\r\n",
        "Also check out \"result.clamp(min=0, max=255)\" mentioned in https://pytorch.org/docs/stable/nn.functional.html"
      ]
    },
    {
      "cell_type": "code",
      "metadata": {
        "id": "kBuxRB7O1A20"
      },
      "source": [
        "#check python version\r\n",
        "!python -V"
      ],
      "execution_count": null,
      "outputs": []
    },
    {
      "cell_type": "code",
      "metadata": {
        "id": "fgtIHvLQ0x42"
      },
      "source": [
        "#check Cuda version\r\n",
        "!nvcc --version"
      ],
      "execution_count": null,
      "outputs": []
    },
    {
      "cell_type": "code",
      "metadata": {
        "id": "5YLn09Tk1f5o"
      },
      "source": [
        "#check pytorch version\r\n",
        "import torch\r\n",
        "print(torch.__version__)"
      ],
      "execution_count": null,
      "outputs": []
    },
    {
      "cell_type": "markdown",
      "metadata": {
        "id": "eFG6bws5SxmA"
      },
      "source": [
        "This explains no attribute dim error: https://discuss.pytorch.org/t/function-object-has-no-attribute-dim/61199/2"
      ]
    },
    {
      "cell_type": "markdown",
      "metadata": {
        "id": "qKqk4GPKC0Rf"
      },
      "source": [
        "Trying to do this from YouTube Tutorial: https://www.youtube.com/watch?v=7nutT3Aacyw"
      ]
    },
    {
      "cell_type": "markdown",
      "metadata": {
        "id": "vY6loS0lHVe5"
      },
      "source": [
        "Issue exporting torch.var() fix right here. Basically it outputs the variance but instead you could use a function to ouput the standard deviation with an exponent of 2 (which is the equation to get variance in statistics anyways):\r\n",
        "https://github.com/onnx/tutorials/issues/125\r\n",
        "\r\n",
        "Here's how torch.var works: https://pytorch.org/docs/stable/generated/torch.var.html#torch.var\r\n",
        "\r\n",
        "Here's how torch.std works:\r\n",
        "https://pytorch.org/docs/stable/generated/torch.std.html#torch.std\r\n",
        "\r\n",
        "Issue with nn code (torch.var function is used with list instead of int) also here related to that section with torch.var():\r\n",
        "https://github.com/znxlwm/UGATIT-pytorch/issues/38\r\n",
        "\r\n",
        "I fixed both of these issues above. IT SUCCESFULLY EXPORTS ONNX FILE!\r\n",
        "\r\n",
        "This branch might be better!\r\n",
        "https://github.com/Lornatang/UGATIT-PyTorch\r\n",
        "\r\n"
      ]
    },
    {
      "cell_type": "code",
      "metadata": {
        "id": "RmcMqJYUC5vD"
      },
      "source": [
        "!python convert_to_onnx.py"
      ],
      "execution_count": 4,
      "outputs": []
    }
  ]
}