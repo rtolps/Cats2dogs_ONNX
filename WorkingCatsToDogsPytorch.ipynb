{
  "nbformat": 4,
  "nbformat_minor": 0,
  "metadata": {
    "colab": {
      "name": "WorkingCatsToDogsPytorch",
      "provenance": [],
      "collapsed_sections": [],
      "machine_shape": "hm",
      "authorship_tag": "ABX9TyPU/J9TPJWaEKKx0vzfkr72",
      "include_colab_link": true
    },
    "kernelspec": {
      "name": "python3",
      "display_name": "Python 3"
    },
    "accelerator": "GPU"
  },
  "cells": [
    {
      "cell_type": "markdown",
      "metadata": {
        "id": "view-in-github",
        "colab_type": "text"
      },
      "source": [
        "<a href=\"https://colab.research.google.com/github/rtolps/Cats2dogs_ONNX/blob/master/WorkingCatsToDogsPytorch.ipynb\" target=\"_parent\"><img src=\"https://colab.research.google.com/assets/colab-badge.svg\" alt=\"Open In Colab\"/></a>"
      ]
    },
    {
      "cell_type": "code",
      "metadata": {
        "id": "JbTn2PbVmRJG",
        "colab": {
          "base_uri": "https://localhost:8080/"
        },
        "outputId": "9214f55f-9284-4221-ee84-92c4c4916baa"
      },
      "source": [
        "!git clone https://github.com/rtolps/Cats2dogs_ONNX\r\n",
        "%cd Cats2dogs_ONNX"
      ],
      "execution_count": 1,
      "outputs": [
        {
          "output_type": "stream",
          "text": [
            "Cloning into 'Cats2dogs_ONNX'...\n",
            "remote: Enumerating objects: 2267, done.\u001b[K\n",
            "remote: Counting objects: 100% (2267/2267), done.\u001b[K\n",
            "remote: Compressing objects: 100% (2265/2265), done.\u001b[K\n",
            "remote: Total 2337 (delta 12), reused 2246 (delta 1), pack-reused 70\u001b[K\n",
            "Receiving objects: 100% (2337/2337), 17.72 MiB | 5.68 MiB/s, done.\n",
            "Resolving deltas: 100% (35/35), done.\n",
            "/content/Cats2dogs_ONNX\n"
          ],
          "name": "stdout"
        }
      ]
    },
    {
      "cell_type": "markdown",
      "metadata": {
        "id": "q7aTmO0SD-sl"
      },
      "source": [
        "Training"
      ]
    },
    {
      "cell_type": "code",
      "metadata": {
        "id": "s8r1_NJtqasq",
        "colab": {
          "base_uri": "https://localhost:8080/"
        },
        "outputId": "b674d8ea-0bb8-4b81-d74d-e8dca528573c"
      },
      "source": [
        "!python main.py --dataset cat2dog  --iteration 100 --light True --save_freq 100"
      ],
      "execution_count": 6,
      "outputs": [
        {
          "output_type": "stream",
          "text": [
            "number of epochs must be larger than or equal to one\n",
            "\n",
            "##### Information #####\n",
            "# light :  True\n",
            "# dataset :  cat2dog\n",
            "# batch_size :  1\n",
            "# iteration per epoch :  100\n",
            "\n",
            "##### Generator #####\n",
            "# residual blocks :  4\n",
            "\n",
            "##### Discriminator #####\n",
            "# discriminator layer :  6\n",
            "\n",
            "##### Weight #####\n",
            "# adv_weight :  1\n",
            "# cycle_weight :  10\n",
            "# identity_weight :  10\n",
            "# cam_weight :  1000\n",
            "training start !\n",
            "[    1/  100] time: 0.5157 d_loss: 8.90641403, g_loss: 9615.43164062\n",
            "[    2/  100] time: 0.9691 d_loss: 5.56732750, g_loss: 5358.34326172\n",
            "[    3/  100] time: 1.4268 d_loss: 6.17890453, g_loss: 4556.23144531\n",
            "[    4/  100] time: 1.8841 d_loss: 5.35577154, g_loss: 3888.46166992\n",
            "[    5/  100] time: 2.3445 d_loss: 6.40140200, g_loss: 5995.27636719\n",
            "[    6/  100] time: 2.8025 d_loss: 5.10230160, g_loss: 2998.93041992\n",
            "[    7/  100] time: 3.2606 d_loss: 5.34654140, g_loss: 4914.95312500\n",
            "[    8/  100] time: 3.7204 d_loss: 4.67984486, g_loss: 2571.92016602\n",
            "[    9/  100] time: 4.1808 d_loss: 4.67512274, g_loss: 4725.60693359\n",
            "[   10/  100] time: 4.6456 d_loss: 4.37230587, g_loss: 5133.90039062\n",
            "[   11/  100] time: 5.1037 d_loss: 4.47216511, g_loss: 5141.29589844\n",
            "[   12/  100] time: 5.5607 d_loss: 4.26027155, g_loss: 1460.68676758\n",
            "[   13/  100] time: 6.0218 d_loss: 4.76111698, g_loss: 1849.46899414\n",
            "Traceback (most recent call last):\n",
            "  File \"main.py\", line 83, in <module>\n",
            "    main()\n",
            "  File \"main.py\", line 75, in main\n",
            "    gan.train()\n",
            "  File \"/content/Cats2dogs_ONNX/UGATIT.py\", line 237, in train\n",
            "    Generator_loss.backward()\n",
            "  File \"/usr/local/lib/python3.6/dist-packages/torch/tensor.py\", line 221, in backward\n",
            "    torch.autograd.backward(self, gradient, retain_graph, create_graph)\n",
            "  File \"/usr/local/lib/python3.6/dist-packages/torch/autograd/__init__.py\", line 132, in backward\n",
            "    allow_unreachable=True)  # allow_unreachable flag\n",
            "KeyboardInterrupt\n"
          ],
          "name": "stdout"
        }
      ]
    },
    {
      "cell_type": "markdown",
      "metadata": {
        "id": "LxWRbl3moZHj"
      },
      "source": [
        "Testing"
      ]
    },
    {
      "cell_type": "code",
      "metadata": {
        "id": "oBIHMCrlrofc",
        "colab": {
          "base_uri": "https://localhost:8080/"
        },
        "outputId": "b5117ab9-096f-4629-e00a-6da175bb602c"
      },
      "source": [
        "!python main.py --dataset  cat2dog --iteration 100 --phase test --light True"
      ],
      "execution_count": 3,
      "outputs": [
        {
          "output_type": "stream",
          "text": [
            "number of epochs must be larger than or equal to one\n",
            "\n",
            "##### Information #####\n",
            "# light :  True\n",
            "# dataset :  cat2dog\n",
            "# batch_size :  1\n",
            "# iteration per epoch :  100\n",
            "\n",
            "##### Generator #####\n",
            "# residual blocks :  4\n",
            "\n",
            "##### Discriminator #####\n",
            "# discriminator layer :  6\n",
            "\n",
            "##### Weight #####\n",
            "# adv_weight :  1\n",
            "# cycle_weight :  10\n",
            "# identity_weight :  10\n",
            "# cam_weight :  1000\n",
            " [*] Load SUCCESS\n",
            " [*] Test finished!\n"
          ],
          "name": "stdout"
        }
      ]
    },
    {
      "cell_type": "markdown",
      "metadata": {
        "id": "bfM0lxlmG4pf"
      },
      "source": [
        "**WARNING PART BELOW NOT WORKING!**\r\n",
        "\r\n",
        "Export ONNX  call a custom script (modifiedmain.py probably) where \"test\" feature is turned into export feature. I added code (which is commented) at the bottom of the UGATIT script to return out genA2B for exporting per [this Snapchat Guide.](https://lensstudio.snapchat.com/guides/machine-learning/ml-frameworks/export-from-pytorch/)"
      ]
    },
    {
      "cell_type": "code",
      "metadata": {
        "id": "zSMvbQ-UorRH",
        "colab": {
          "base_uri": "https://localhost:8080/"
        },
        "outputId": "dc1a9c04-c732-4fde-a513-9432eba56219"
      },
      "source": [
        "!python modifiedmain.py --dataset  cat2dog --iteration 100 --phase test --light True"
      ],
      "execution_count": 10,
      "outputs": [
        {
          "output_type": "stream",
          "text": [
            "number of epochs must be larger than or equal to one\n",
            "\n",
            "##### Information #####\n",
            "# light :  True\n",
            "# dataset :  cat2dog\n",
            "# batch_size :  1\n",
            "# iteration per epoch :  100\n",
            "\n",
            "##### Generator #####\n",
            "# residual blocks :  4\n",
            "\n",
            "##### Discriminator #####\n",
            "# discriminator layer :  6\n",
            "\n",
            "##### Weight #####\n",
            "# adv_weight :  1\n",
            "# cycle_weight :  10\n",
            "# identity_weight :  10\n",
            "# cam_weight :  1000\n",
            "Traceback (most recent call last):\n",
            "  File \"modifiedmain.py\", line 93, in <module>\n",
            "    main()\n",
            "  File \"modifiedmain.py\", line 79, in main\n",
            "    model= gan.genA2B()\n",
            "  File \"/usr/local/lib/python3.6/dist-packages/torch/nn/modules/module.py\", line 727, in _call_impl\n",
            "    result = self.forward(*input, **kwargs)\n",
            "TypeError: forward() missing 1 required positional argument: 'input'\n"
          ],
          "name": "stdout"
        }
      ]
    }
  ]
}