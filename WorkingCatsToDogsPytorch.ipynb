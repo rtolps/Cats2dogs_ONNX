{
  "nbformat": 4,
  "nbformat_minor": 0,
  "metadata": {
    "colab": {
      "name": "WorkingCatsToDogsPytorch",
      "provenance": [],
      "collapsed_sections": [],
      "machine_shape": "hm",
      "authorship_tag": "ABX9TyMrrQwg+jUbs3KWzrEwndH8",
      "include_colab_link": true
    },
    "kernelspec": {
      "name": "python3",
      "display_name": "Python 3"
    },
    "accelerator": "GPU"
  },
  "cells": [
    {
      "cell_type": "markdown",
      "metadata": {
        "id": "view-in-github",
        "colab_type": "text"
      },
      "source": [
        "<a href=\"https://colab.research.google.com/github/rtolps/Cats2dogs_ONNX/blob/master/WorkingCatsToDogsPytorch.ipynb\" target=\"_parent\"><img src=\"https://colab.research.google.com/assets/colab-badge.svg\" alt=\"Open In Colab\"/></a>"
      ]
    },
    {
      "cell_type": "code",
      "metadata": {
        "id": "JbTn2PbVmRJG",
        "colab": {
          "base_uri": "https://localhost:8080/"
        },
        "outputId": "94409c9b-c439-4534-ce48-ef719232b3c0"
      },
      "source": [
        "!git clone https://github.com/rtolps/Cats2dogs_ONNX\r\n",
        "%cd Cats2dogs_ONNX"
      ],
      "execution_count": 1,
      "outputs": [
        {
          "output_type": "stream",
          "text": [
            "Cloning into 'Cats2dogs_ONNX'...\n",
            "remote: Enumerating objects: 2275, done.\u001b[K\n",
            "remote: Counting objects: 100% (2275/2275), done.\u001b[K\n",
            "remote: Compressing objects: 100% (2271/2271), done.\u001b[K\n",
            "remote: Total 2345 (delta 17), reused 2249 (delta 3), pack-reused 70\u001b[K\n",
            "Receiving objects: 100% (2345/2345), 17.72 MiB | 2.15 MiB/s, done.\n",
            "Resolving deltas: 100% (40/40), done.\n",
            "/content/Cats2dogs_ONNX\n"
          ],
          "name": "stdout"
        }
      ]
    },
    {
      "cell_type": "markdown",
      "metadata": {
        "id": "q7aTmO0SD-sl"
      },
      "source": [
        "Training"
      ]
    },
    {
      "cell_type": "code",
      "metadata": {
        "id": "s8r1_NJtqasq",
        "colab": {
          "base_uri": "https://localhost:8080/"
        },
        "outputId": "94e15da3-ae41-4419-f37c-15cfa878523c"
      },
      "source": [
        "!python main.py --dataset cat2dog  --iteration 100 --light True --save_freq 100"
      ],
      "execution_count": 15,
      "outputs": [
        {
          "output_type": "stream",
          "text": [
            "number of epochs must be larger than or equal to one\n",
            "\n",
            "##### Information #####\n",
            "# light :  True\n",
            "# dataset :  cat2dog\n",
            "# batch_size :  10\n",
            "# iteration per epoch :  100\n",
            "\n",
            "##### Generator #####\n",
            "# residual blocks :  4\n",
            "\n",
            "##### Discriminator #####\n",
            "# discriminator layer :  6\n",
            "\n",
            "##### Weight #####\n",
            "# adv_weight :  1\n",
            "# cycle_weight :  10\n",
            "# identity_weight :  10\n",
            "# cam_weight :  1000\n",
            "training start !\n",
            "Traceback (most recent call last):\n",
            "  File \"main.py\", line 83, in <module>\n",
            "    main()\n",
            "  File \"main.py\", line 75, in main\n",
            "    gan.train()\n",
            "  File \"/content/Cats2dogs_ONNX/UGATIT.py\", line 170, in train\n",
            "    fake_B2A, _, _ = self.genB2A(real_B)\n",
            "  File \"/usr/local/lib/python3.6/dist-packages/torch/nn/modules/module.py\", line 727, in _call_impl\n",
            "    result = self.forward(*input, **kwargs)\n",
            "  File \"/content/Cats2dogs_ONNX/networks.py\", line 108, in forward\n",
            "    out = self.UpBlock2(x)\n",
            "  File \"/usr/local/lib/python3.6/dist-packages/torch/nn/modules/module.py\", line 727, in _call_impl\n",
            "    result = self.forward(*input, **kwargs)\n",
            "  File \"/usr/local/lib/python3.6/dist-packages/torch/nn/modules/container.py\", line 117, in forward\n",
            "    input = module(input)\n",
            "  File \"/usr/local/lib/python3.6/dist-packages/torch/nn/modules/module.py\", line 727, in _call_impl\n",
            "    result = self.forward(*input, **kwargs)\n",
            "  File \"/content/Cats2dogs_ONNX/networks.py\", line 191, in forward\n",
            "    out = self.rho.expand(input.shape[0], -1, -1, -1) * out_in + (1-self.rho.expand(input.shape[0], -1, -1, -1)) * out_ln\n",
            "RuntimeError: CUDA out of memory. Tried to allocate 160.00 MiB (GPU 0; 15.75 GiB total capacity; 14.37 GiB already allocated; 56.88 MiB free; 14.48 GiB reserved in total by PyTorch)\n"
          ],
          "name": "stdout"
        }
      ]
    },
    {
      "cell_type": "markdown",
      "metadata": {
        "id": "LxWRbl3moZHj"
      },
      "source": [
        "Testing"
      ]
    },
    {
      "cell_type": "code",
      "metadata": {
        "id": "oBIHMCrlrofc",
        "colab": {
          "base_uri": "https://localhost:8080/"
        },
        "outputId": "8f88efa8-9b6e-41cc-de73-36a270d254ab"
      },
      "source": [
        "!python main.py --dataset  cat2dog --iteration 100 --phase test --light True"
      ],
      "execution_count": 3,
      "outputs": [
        {
          "output_type": "stream",
          "text": [
            "number of epochs must be larger than or equal to one\n",
            "\n",
            "##### Information #####\n",
            "# light :  True\n",
            "# dataset :  cat2dog\n",
            "# batch_size :  1\n",
            "# iteration per epoch :  100\n",
            "\n",
            "##### Generator #####\n",
            "# residual blocks :  4\n",
            "\n",
            "##### Discriminator #####\n",
            "# discriminator layer :  6\n",
            "\n",
            "##### Weight #####\n",
            "# adv_weight :  1\n",
            "# cycle_weight :  10\n",
            "# identity_weight :  10\n",
            "# cam_weight :  1000\n",
            " [*] Load SUCCESS\n",
            " [*] Test finished!\n"
          ],
          "name": "stdout"
        }
      ]
    },
    {
      "cell_type": "markdown",
      "metadata": {
        "id": "bfM0lxlmG4pf"
      },
      "source": [
        "**WARNING PART BELOW NOT WORKING!**\r\n",
        "\r\n",
        "Export ONNX  call a custom script (modifiedmain.py probably) where \"test\" feature is turned into export feature. I added code (which is commented) at the bottom of the UGATIT script to return out genA2B for exporting per [this Snapchat Guide.](https://lensstudio.snapchat.com/guides/machine-learning/ml-frameworks/export-from-pytorch/)"
      ]
    },
    {
      "cell_type": "code",
      "metadata": {
        "colab": {
          "base_uri": "https://localhost:8080/"
        },
        "id": "kBuxRB7O1A20",
        "outputId": "c1d16f93-4c9b-4959-ff40-3b1f34c51b83"
      },
      "source": [
        "#check python version\r\n",
        "!python -V"
      ],
      "execution_count": 10,
      "outputs": [
        {
          "output_type": "stream",
          "text": [
            "Python 3.6.9\n"
          ],
          "name": "stdout"
        }
      ]
    },
    {
      "cell_type": "code",
      "metadata": {
        "colab": {
          "base_uri": "https://localhost:8080/"
        },
        "id": "fgtIHvLQ0x42",
        "outputId": "89e4c63b-0352-4c50-ebe8-8a5c5e349200"
      },
      "source": [
        "#check Cuda version\r\n",
        "!nvcc --version"
      ],
      "execution_count": 9,
      "outputs": [
        {
          "output_type": "stream",
          "text": [
            "nvcc: NVIDIA (R) Cuda compiler driver\n",
            "Copyright (c) 2005-2019 NVIDIA Corporation\n",
            "Built on Sun_Jul_28_19:07:16_PDT_2019\n",
            "Cuda compilation tools, release 10.1, V10.1.243\n"
          ],
          "name": "stdout"
        }
      ]
    },
    {
      "cell_type": "code",
      "metadata": {
        "colab": {
          "base_uri": "https://localhost:8080/"
        },
        "id": "5YLn09Tk1f5o",
        "outputId": "7a6bbfe5-10ce-4c78-a591-7c4848461eb5"
      },
      "source": [
        "#check pytorch version\r\n",
        "import torch\r\n",
        "print(torch.__version__)"
      ],
      "execution_count": 12,
      "outputs": [
        {
          "output_type": "stream",
          "text": [
            "1.7.0+cu101\n"
          ],
          "name": "stdout"
        }
      ]
    },
    {
      "cell_type": "code",
      "metadata": {
        "id": "zSMvbQ-UorRH",
        "colab": {
          "base_uri": "https://localhost:8080/"
        },
        "outputId": "fc7a73e9-a1ba-4457-a102-384684e47024"
      },
      "source": [
        "!python modifiedmain.py --dataset  cat2dog --iteration 100 --phase test --light True"
      ],
      "execution_count": 24,
      "outputs": [
        {
          "output_type": "stream",
          "text": [
            "number of epochs must be larger than or equal to one\n",
            "\n",
            "##### Information #####\n",
            "# light :  True\n",
            "# dataset :  cat2dog\n",
            "# batch_size :  1\n",
            "# iteration per epoch :  100\n",
            "\n",
            "##### Generator #####\n",
            "# residual blocks :  4\n",
            "\n",
            "##### Discriminator #####\n",
            "# discriminator layer :  6\n",
            "\n",
            "##### Weight #####\n",
            "# adv_weight :  1\n",
            "# cycle_weight :  10\n",
            "# identity_weight :  10\n",
            "# cam_weight :  1000\n",
            " [*] Load SUCCESS\n",
            "Traceback (most recent call last):\n",
            "  File \"modifiedmain.py\", line 94, in <module>\n",
            "    main()\n",
            "  File \"modifiedmain.py\", line 80, in main\n",
            "    model= gan.genA2B(input)\n",
            "  File \"/usr/local/lib/python3.6/dist-packages/torch/nn/modules/module.py\", line 727, in _call_impl\n",
            "    result = self.forward(*input, **kwargs)\n",
            "  File \"/content/Cats2dogs_ONNX/networks.py\", line 80, in forward\n",
            "    x = self.DownBlock(input)\n",
            "  File \"/usr/local/lib/python3.6/dist-packages/torch/nn/modules/module.py\", line 727, in _call_impl\n",
            "    result = self.forward(*input, **kwargs)\n",
            "  File \"/usr/local/lib/python3.6/dist-packages/torch/nn/modules/container.py\", line 117, in forward\n",
            "    input = module(input)\n",
            "  File \"/usr/local/lib/python3.6/dist-packages/torch/nn/modules/module.py\", line 727, in _call_impl\n",
            "    result = self.forward(*input, **kwargs)\n",
            "  File \"/usr/local/lib/python3.6/dist-packages/torch/nn/modules/padding.py\", line 170, in forward\n",
            "    return F.pad(input, self.padding, 'reflect')\n",
            "  File \"/usr/local/lib/python3.6/dist-packages/torch/nn/functional.py\", line 3551, in _pad\n",
            "    assert len(pad) // 2 <= input.dim(), 'Padding length too large'\n",
            "AttributeError: 'builtin_function_or_method' object has no attribute 'dim'\n"
          ],
          "name": "stdout"
        }
      ]
    }
  ]
}