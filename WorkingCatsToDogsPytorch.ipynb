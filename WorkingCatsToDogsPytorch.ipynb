{
  "nbformat": 4,
  "nbformat_minor": 0,
  "metadata": {
    "colab": {
      "name": "WorkingCatsToDogsPytorch",
      "provenance": [],
      "collapsed_sections": [],
      "machine_shape": "hm",
      "authorship_tag": "ABX9TyPGl83TgnGd7NDdAiWAWO5R",
      "include_colab_link": true
    },
    "kernelspec": {
      "name": "python3",
      "display_name": "Python 3"
    },
    "accelerator": "GPU"
  },
  "cells": [
    {
      "cell_type": "markdown",
      "metadata": {
        "id": "view-in-github",
        "colab_type": "text"
      },
      "source": [
        "<a href=\"https://colab.research.google.com/github/rtolps/Cats2dogs_ONNX/blob/master/WorkingCatsToDogsPytorch.ipynb\" target=\"_parent\"><img src=\"https://colab.research.google.com/assets/colab-badge.svg\" alt=\"Open In Colab\"/></a>"
      ]
    },
    {
      "cell_type": "code",
      "metadata": {
        "id": "JbTn2PbVmRJG",
        "colab": {
          "base_uri": "https://localhost:8080/"
        },
        "outputId": "2ad6128f-7d4c-4101-e725-5a021e903ba1"
      },
      "source": [
        "!git clone https://github.com/rtolps/Cats2dogs_ONNX\r\n",
        "%cd Cats2dogs_ONNX"
      ],
      "execution_count": 1,
      "outputs": [
        {
          "output_type": "stream",
          "text": [
            "Cloning into 'Cats2dogs_ONNX'...\n",
            "remote: Enumerating objects: 2282, done.\u001b[K\n",
            "remote: Counting objects: 100% (2282/2282), done.\u001b[K\n",
            "remote: Compressing objects: 100% (2276/2276), done.\u001b[K\n",
            "remote: Total 2352 (delta 22), reused 2252 (delta 5), pack-reused 70\u001b[K\n",
            "Receiving objects: 100% (2352/2352), 17.72 MiB | 4.62 MiB/s, done.\n",
            "Resolving deltas: 100% (45/45), done.\n",
            "/content/Cats2dogs_ONNX\n"
          ],
          "name": "stdout"
        }
      ]
    },
    {
      "cell_type": "markdown",
      "metadata": {
        "id": "q7aTmO0SD-sl"
      },
      "source": [
        "Training"
      ]
    },
    {
      "cell_type": "code",
      "metadata": {
        "id": "s8r1_NJtqasq",
        "colab": {
          "base_uri": "https://localhost:8080/"
        },
        "outputId": "a7e97648-35f1-4814-b6cd-ede42bc3a097"
      },
      "source": [
        "!python main.py --dataset cat2dog  --iteration 100 --light True --save_freq 100"
      ],
      "execution_count": 2,
      "outputs": [
        {
          "output_type": "stream",
          "text": [
            "number of epochs must be larger than or equal to one\n",
            "\n",
            "##### Information #####\n",
            "# light :  True\n",
            "# dataset :  cat2dog\n",
            "# batch_size :  1\n",
            "# iteration per epoch :  100\n",
            "\n",
            "##### Generator #####\n",
            "# residual blocks :  4\n",
            "\n",
            "##### Discriminator #####\n",
            "# discriminator layer :  6\n",
            "\n",
            "##### Weight #####\n",
            "# adv_weight :  1\n",
            "# cycle_weight :  10\n",
            "# identity_weight :  10\n",
            "# cam_weight :  1000\n",
            "training start !\n",
            "[    1/  100] time: 0.6923 d_loss: 8.48663521, g_loss: 9409.83593750\n",
            "[    2/  100] time: 1.1445 d_loss: 5.46647596, g_loss: 4754.78759766\n",
            "[    3/  100] time: 1.6017 d_loss: 5.99550629, g_loss: 3206.95117188\n",
            "[    4/  100] time: 2.0590 d_loss: 5.41966486, g_loss: 3842.57080078\n",
            "[    5/  100] time: 2.5156 d_loss: 5.46462536, g_loss: 3014.89306641\n",
            "[    6/  100] time: 2.9740 d_loss: 5.27973747, g_loss: 3051.10742188\n",
            "[    7/  100] time: 3.4302 d_loss: 5.20223045, g_loss: 4411.82519531\n",
            "[    8/  100] time: 3.8871 d_loss: 5.77359009, g_loss: 2381.24682617\n",
            "[    9/  100] time: 4.3441 d_loss: 5.30080223, g_loss: 7337.70996094\n",
            "[   10/  100] time: 4.8005 d_loss: 4.66570473, g_loss: 3222.95996094\n",
            "[   11/  100] time: 5.2570 d_loss: 4.58890438, g_loss: 5015.20898438\n",
            "[   12/  100] time: 5.7143 d_loss: 4.08087873, g_loss: 9809.76367188\n",
            "[   13/  100] time: 6.1740 d_loss: 4.75369072, g_loss: 2608.01416016\n",
            "[   14/  100] time: 6.6308 d_loss: 4.50787067, g_loss: 2925.70458984\n",
            "[   15/  100] time: 7.0876 d_loss: 4.78925657, g_loss: 9127.48730469\n",
            "[   16/  100] time: 7.5444 d_loss: 5.12461042, g_loss: 5342.90527344\n",
            "[   17/  100] time: 8.0009 d_loss: 4.41187477, g_loss: 9953.44140625\n",
            "[   18/  100] time: 8.4576 d_loss: 4.42495346, g_loss: 5318.47656250\n",
            "[   19/  100] time: 8.9159 d_loss: 3.97196674, g_loss: 10725.29492188\n",
            "[   20/  100] time: 9.3721 d_loss: 4.05048943, g_loss: 2207.44433594\n",
            "[   21/  100] time: 9.8284 d_loss: 5.03544807, g_loss: 6942.15283203\n",
            "[   22/  100] time: 10.2877 d_loss: 4.06107330, g_loss: 2939.53979492\n",
            "[   23/  100] time: 10.7451 d_loss: 4.06854296, g_loss: 4039.30053711\n",
            "[   24/  100] time: 11.2029 d_loss: 4.51150608, g_loss: 2665.62402344\n",
            "[   25/  100] time: 11.6594 d_loss: 4.01249266, g_loss: 2437.91308594\n",
            "[   26/  100] time: 12.1180 d_loss: 4.21220779, g_loss: 1849.93066406\n",
            "[   27/  100] time: 12.5749 d_loss: 4.75033474, g_loss: 2272.89892578\n",
            "[   28/  100] time: 13.0317 d_loss: 4.34073591, g_loss: 4200.93066406\n",
            "[   29/  100] time: 13.4881 d_loss: 4.23499489, g_loss: 1670.83935547\n",
            "[   30/  100] time: 13.9457 d_loss: 4.44050980, g_loss: 2451.08740234\n",
            "[   31/  100] time: 14.4024 d_loss: 4.01671124, g_loss: 1921.24121094\n",
            "[   32/  100] time: 14.8609 d_loss: 3.89291263, g_loss: 1916.40087891\n",
            "[   33/  100] time: 15.3160 d_loss: 3.71505857, g_loss: 5052.33789062\n",
            "[   34/  100] time: 15.7740 d_loss: 4.57973099, g_loss: 1888.53039551\n",
            "[   35/  100] time: 16.2321 d_loss: 4.08585596, g_loss: 7946.60791016\n",
            "[   36/  100] time: 16.6893 d_loss: 3.93111420, g_loss: 7637.68652344\n",
            "[   37/  100] time: 17.1457 d_loss: 3.98511910, g_loss: 9495.15722656\n",
            "[   38/  100] time: 17.6021 d_loss: 4.08366108, g_loss: 5350.85400391\n",
            "[   39/  100] time: 18.0591 d_loss: 3.68312597, g_loss: 1468.29956055\n",
            "[   40/  100] time: 18.5155 d_loss: 4.05021381, g_loss: 2763.59497070\n",
            "[   41/  100] time: 18.9725 d_loss: 3.85979152, g_loss: 3450.37402344\n",
            "[   42/  100] time: 19.4293 d_loss: 3.84727716, g_loss: 1662.94897461\n",
            "[   43/  100] time: 19.8857 d_loss: 4.11989975, g_loss: 1544.29309082\n",
            "[   44/  100] time: 20.3443 d_loss: 4.21254110, g_loss: 1504.90234375\n",
            "[   45/  100] time: 20.8016 d_loss: 3.94165850, g_loss: 2085.15747070\n",
            "[   46/  100] time: 21.2591 d_loss: 3.48605561, g_loss: 1426.78369141\n",
            "[   47/  100] time: 21.7163 d_loss: 4.02542210, g_loss: 2287.05224609\n",
            "[   48/  100] time: 22.1730 d_loss: 3.66480684, g_loss: 4837.96630859\n",
            "[   49/  100] time: 22.6303 d_loss: 3.44204521, g_loss: 3773.62768555\n",
            "[   50/  100] time: 23.0871 d_loss: 4.28281975, g_loss: 1534.48144531\n",
            "[   51/  100] time: 23.5433 d_loss: 4.37867975, g_loss: 2098.26660156\n",
            "[   52/  100] time: 24.0001 d_loss: 4.48355675, g_loss: 3203.70288086\n",
            "[   53/  100] time: 24.4569 d_loss: 4.29576015, g_loss: 1777.40441895\n",
            "[   54/  100] time: 24.9139 d_loss: 4.35581446, g_loss: 2521.74365234\n",
            "[   55/  100] time: 25.3699 d_loss: 3.87242031, g_loss: 1596.11279297\n",
            "[   56/  100] time: 25.8275 d_loss: 4.07532120, g_loss: 2370.22387695\n",
            "[   57/  100] time: 26.2856 d_loss: 3.30808926, g_loss: 1814.59765625\n",
            "[   58/  100] time: 26.7423 d_loss: 3.75859785, g_loss: 2320.66308594\n",
            "[   59/  100] time: 27.2021 d_loss: 3.80356503, g_loss: 4356.79931641\n",
            "[   60/  100] time: 27.6585 d_loss: 4.18369055, g_loss: 2187.71655273\n",
            "[   61/  100] time: 28.1151 d_loss: 3.86119938, g_loss: 1576.38671875\n",
            "[   62/  100] time: 28.5715 d_loss: 3.86741543, g_loss: 10295.86132812\n",
            "[   63/  100] time: 29.0280 d_loss: 3.81157970, g_loss: 4480.29003906\n",
            "[   64/  100] time: 29.4843 d_loss: 4.29345226, g_loss: 2575.83007812\n",
            "[   65/  100] time: 29.9404 d_loss: 4.30998898, g_loss: 4640.90136719\n",
            "[   66/  100] time: 30.3963 d_loss: 3.84062052, g_loss: 1954.51879883\n",
            "[   67/  100] time: 30.8533 d_loss: 3.82079315, g_loss: 1876.20654297\n",
            "[   68/  100] time: 31.3106 d_loss: 3.54921222, g_loss: 3340.70556641\n",
            "[   69/  100] time: 31.7671 d_loss: 3.66170669, g_loss: 1719.42041016\n",
            "[   70/  100] time: 32.2238 d_loss: 4.72553349, g_loss: 5405.01220703\n",
            "[   71/  100] time: 32.6811 d_loss: 3.35386443, g_loss: 1479.59057617\n",
            "[   72/  100] time: 33.1382 d_loss: 4.06061172, g_loss: 2402.16162109\n",
            "[   73/  100] time: 33.5945 d_loss: 4.01303148, g_loss: 3584.92333984\n",
            "[   74/  100] time: 34.0514 d_loss: 3.87451386, g_loss: 1616.60156250\n",
            "[   75/  100] time: 34.5085 d_loss: 3.90194774, g_loss: 1425.70910645\n",
            "[   76/  100] time: 34.9651 d_loss: 3.55322027, g_loss: 1401.99487305\n",
            "[   77/  100] time: 35.4217 d_loss: 4.22587204, g_loss: 2257.13964844\n",
            "[   78/  100] time: 35.8789 d_loss: 3.68736172, g_loss: 1416.22265625\n",
            "[   79/  100] time: 36.3364 d_loss: 3.46752143, g_loss: 2617.15722656\n",
            "[   80/  100] time: 36.7937 d_loss: 3.95330715, g_loss: 2205.59033203\n",
            "[   81/  100] time: 37.2512 d_loss: 3.84203577, g_loss: 3370.19750977\n",
            "[   82/  100] time: 37.7077 d_loss: 3.61038351, g_loss: 4492.78662109\n",
            "[   83/  100] time: 38.1642 d_loss: 4.20692825, g_loss: 4402.53076172\n",
            "[   84/  100] time: 38.6224 d_loss: 3.55803108, g_loss: 2219.95361328\n",
            "[   85/  100] time: 39.0793 d_loss: 3.09573984, g_loss: 1462.83789062\n",
            "[   86/  100] time: 39.5371 d_loss: 3.33090591, g_loss: 1748.25903320\n",
            "[   87/  100] time: 39.9939 d_loss: 3.18153429, g_loss: 2640.61083984\n",
            "[   88/  100] time: 40.4505 d_loss: 3.55172038, g_loss: 2558.79296875\n",
            "[   89/  100] time: 40.9077 d_loss: 3.87875128, g_loss: 2133.76367188\n",
            "[   90/  100] time: 41.3649 d_loss: 4.01167011, g_loss: 5495.25585938\n",
            "[   91/  100] time: 41.8215 d_loss: 3.80759501, g_loss: 2479.93823242\n",
            "[   92/  100] time: 42.2788 d_loss: 3.61199808, g_loss: 1725.11840820\n",
            "[   93/  100] time: 42.7354 d_loss: 4.06120920, g_loss: 1508.08276367\n",
            "[   94/  100] time: 43.1923 d_loss: 3.95177245, g_loss: 1512.92907715\n",
            "[   95/  100] time: 43.6500 d_loss: 3.49065709, g_loss: 2267.78466797\n",
            "[   96/  100] time: 44.1068 d_loss: 3.63625050, g_loss: 1923.09130859\n",
            "[   97/  100] time: 44.5665 d_loss: 4.09821701, g_loss: 1549.37011719\n",
            "[   98/  100] time: 45.0226 d_loss: 3.75349236, g_loss: 1807.84326172\n",
            "[   99/  100] time: 45.4798 d_loss: 4.16103745, g_loss: 2406.32348633\n",
            "[  100/  100] time: 45.9370 d_loss: 3.37527299, g_loss: 1519.56030273\n",
            " [*] Training finished!\n"
          ],
          "name": "stdout"
        }
      ]
    },
    {
      "cell_type": "markdown",
      "metadata": {
        "id": "LxWRbl3moZHj"
      },
      "source": [
        "Testing"
      ]
    },
    {
      "cell_type": "code",
      "metadata": {
        "id": "oBIHMCrlrofc",
        "colab": {
          "base_uri": "https://localhost:8080/"
        },
        "outputId": "3acbc7ac-fe93-4d89-c323-72c1cdca5b02"
      },
      "source": [
        "!python main.py --dataset  cat2dog --iteration 100 --phase test --light True"
      ],
      "execution_count": 3,
      "outputs": [
        {
          "output_type": "stream",
          "text": [
            "number of epochs must be larger than or equal to one\n",
            "\n",
            "##### Information #####\n",
            "# light :  True\n",
            "# dataset :  cat2dog\n",
            "# batch_size :  1\n",
            "# iteration per epoch :  100\n",
            "\n",
            "##### Generator #####\n",
            "# residual blocks :  4\n",
            "\n",
            "##### Discriminator #####\n",
            "# discriminator layer :  6\n",
            "\n",
            "##### Weight #####\n",
            "# adv_weight :  1\n",
            "# cycle_weight :  10\n",
            "# identity_weight :  10\n",
            "# cam_weight :  1000\n",
            " [*] Load SUCCESS\n",
            " [*] Test finished!\n"
          ],
          "name": "stdout"
        }
      ]
    },
    {
      "cell_type": "markdown",
      "metadata": {
        "id": "bfM0lxlmG4pf"
      },
      "source": [
        "**WARNING PART BELOW NOT WORKING!**\r\n",
        "\r\n",
        "Export ONNX  call a custom script (modifiedmain.py probably) where \"test\" feature is turned into export feature. I added code (which is commented) at the bottom of the UGATIT script to return out genA2B for exporting per [this Snapchat Guide.](https://lensstudio.snapchat.com/guides/machine-learning/ml-frameworks/export-from-pytorch/)"
      ]
    },
    {
      "cell_type": "markdown",
      "metadata": {
        "id": "y5TLn8g-I8ko"
      },
      "source": [
        "Extra info about training the model as 0,255 instead: https://discuss.pytorch.org/t/how-to-change-torchvision-model-input-range-from-0-1-to-0-256/58511/3\r\n",
        "\r\n",
        "Also check out \"result.clamp(min=0, max=255)\" mentioned in https://pytorch.org/docs/stable/nn.functional.html"
      ]
    },
    {
      "cell_type": "code",
      "metadata": {
        "colab": {
          "base_uri": "https://localhost:8080/"
        },
        "id": "kBuxRB7O1A20",
        "outputId": "c1d16f93-4c9b-4959-ff40-3b1f34c51b83"
      },
      "source": [
        "#check python version\r\n",
        "!python -V"
      ],
      "execution_count": 10,
      "outputs": [
        {
          "output_type": "stream",
          "text": [
            "Python 3.6.9\n"
          ],
          "name": "stdout"
        }
      ]
    },
    {
      "cell_type": "code",
      "metadata": {
        "colab": {
          "base_uri": "https://localhost:8080/"
        },
        "id": "fgtIHvLQ0x42",
        "outputId": "89e4c63b-0352-4c50-ebe8-8a5c5e349200"
      },
      "source": [
        "#check Cuda version\r\n",
        "!nvcc --version"
      ],
      "execution_count": 9,
      "outputs": [
        {
          "output_type": "stream",
          "text": [
            "nvcc: NVIDIA (R) Cuda compiler driver\n",
            "Copyright (c) 2005-2019 NVIDIA Corporation\n",
            "Built on Sun_Jul_28_19:07:16_PDT_2019\n",
            "Cuda compilation tools, release 10.1, V10.1.243\n"
          ],
          "name": "stdout"
        }
      ]
    },
    {
      "cell_type": "code",
      "metadata": {
        "colab": {
          "base_uri": "https://localhost:8080/"
        },
        "id": "5YLn09Tk1f5o",
        "outputId": "7a6bbfe5-10ce-4c78-a591-7c4848461eb5"
      },
      "source": [
        "#check pytorch version\r\n",
        "import torch\r\n",
        "print(torch.__version__)"
      ],
      "execution_count": 12,
      "outputs": [
        {
          "output_type": "stream",
          "text": [
            "1.7.0+cu101\n"
          ],
          "name": "stdout"
        }
      ]
    },
    {
      "cell_type": "code",
      "metadata": {
        "id": "zSMvbQ-UorRH",
        "colab": {
          "base_uri": "https://localhost:8080/"
        },
        "outputId": "264fa51c-34b4-4ad8-a3ca-78a385398d00"
      },
      "source": [
        "!python modifiedmain.py --dataset  cat2dog --iteration 100 --phase test --light True"
      ],
      "execution_count": 25,
      "outputs": [
        {
          "output_type": "stream",
          "text": [
            "number of epochs must be larger than or equal to one\n",
            "\n",
            "##### Information #####\n",
            "# light :  True\n",
            "# dataset :  cat2dog\n",
            "# batch_size :  1\n",
            "# iteration per epoch :  100\n",
            "\n",
            "##### Generator #####\n",
            "# residual blocks :  4\n",
            "\n",
            "##### Discriminator #####\n",
            "# discriminator layer :  6\n",
            "\n",
            "##### Weight #####\n",
            "# adv_weight :  1\n",
            "# cycle_weight :  10\n",
            "# identity_weight :  10\n",
            "# cam_weight :  1000\n",
            " [*] Load SUCCESS\n",
            "Traceback (most recent call last):\n",
            "  File \"modifiedmain.py\", line 94, in <module>\n",
            "    main()\n",
            "  File \"modifiedmain.py\", line 80, in main\n",
            "    model= gan.genA2B(input)\n",
            "  File \"/usr/local/lib/python3.6/dist-packages/torch/nn/modules/module.py\", line 727, in _call_impl\n",
            "    result = self.forward(*input, **kwargs)\n",
            "  File \"/content/Cats2dogs_ONNX/networks.py\", line 80, in forward\n",
            "    x = self.DownBlock(input)\n",
            "  File \"/usr/local/lib/python3.6/dist-packages/torch/nn/modules/module.py\", line 727, in _call_impl\n",
            "    result = self.forward(*input, **kwargs)\n",
            "  File \"/usr/local/lib/python3.6/dist-packages/torch/nn/modules/container.py\", line 117, in forward\n",
            "    input = module(input)\n",
            "  File \"/usr/local/lib/python3.6/dist-packages/torch/nn/modules/module.py\", line 727, in _call_impl\n",
            "    result = self.forward(*input, **kwargs)\n",
            "  File \"/usr/local/lib/python3.6/dist-packages/torch/nn/modules/padding.py\", line 170, in forward\n",
            "    return F.pad(input, self.padding, 'reflect')\n",
            "  File \"/usr/local/lib/python3.6/dist-packages/torch/nn/functional.py\", line 3551, in _pad\n",
            "    assert len(pad) // 2 <= input.dim(), 'Padding length too large'\n",
            "AttributeError: 'builtin_function_or_method' object has no attribute 'dim'\n"
          ],
          "name": "stdout"
        }
      ]
    }
  ]
}